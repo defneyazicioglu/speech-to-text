{
 "cells": [
  {
   "cell_type": "code",
   "execution_count": 327,
   "id": "92bd4c28-cdf6-4c62-8124-ee61c86f046f",
   "metadata": {},
   "outputs": [],
   "source": [
    "import os\n",
    "from uuid import uuid4\n",
    "from google.cloud import speech_v2\n",
    "from google.api_core import client_options\n",
    "import json\n",
    "from google.cloud import storage\n",
    "\n",
    "project_id = \"PROJECT ID\"\n",
    "audio = \"gs://blogpost_data/audiobooks/audios/the_wonderful_wizard_of_oz.wav\"\n",
    "output_loc = \"gs://blogpost_data/stt_transcript\"\n",
    "groundtruth_bucket = \"blogpost_data\"\n",
    "groundtruth_loc = \"audiobooks/groundtruth/the_wonderful_wizard_of_oz.txt\" # Exclude bucket name."
   ]
  },
  {
   "cell_type": "code",
   "execution_count": 328,
   "id": "9f2a2c0b-f475-4234-b541-8abc536d4445",
   "metadata": {},
   "outputs": [],
   "source": [
    "# Instantiate a client.\n",
    "client_options = client_options.ClientOptions(api_endpoint=\"us-central1-speech.googleapis.com\")\n",
    "\n",
    "client = speech_v2.SpeechClient(client_options=client_options)"
   ]
  },
  {
   "cell_type": "code",
   "execution_count": 329,
   "id": "2cb0b2f0-71ef-4744-826b-6633c0233bd8",
   "metadata": {},
   "outputs": [],
   "source": [
    "# Configure recognizer.\n",
    "\n",
    "request = speech_v2.types.cloud_speech.CreateRecognizerRequest(\n",
    "            parent=f\"projects/{project_id}/locations/us-central1\",\n",
    "            recognizer_id=\"recognizer-\" + str(uuid4()),\n",
    "            recognizer=speech_v2.types.cloud_speech.Recognizer(\n",
    "            language_codes=['en-US'],\n",
    "            model='chirp'),\n",
    "    )\n",
    "\n",
    "# Create recognizer\n",
    "operation = client.create_recognizer(request=request)\n",
    "recognizer = operation.result()"
   ]
  },
  {
   "cell_type": "code",
   "execution_count": 330,
   "id": "2f2f5e07-32d5-4809-a616-22520a16e2df",
   "metadata": {},
   "outputs": [],
   "source": [
    "files = speech_v2.types.cloud_speech.BatchRecognizeFileMetadata(uri=audio)\n",
    "\n",
    "gcs_output_config = speech_v2.types.cloud_speech.GcsOutputConfig(uri=output_loc)\n",
    "\n",
    "output_config = speech_v2.types.cloud_speech.RecognitionOutputConfig(gcs_output_config=gcs_output_config)"
   ]
  },
  {
   "cell_type": "code",
   "execution_count": 331,
   "id": "0ad1f6ba-0c08-47fe-b86b-ce5c42abcabb",
   "metadata": {},
   "outputs": [],
   "source": [
    "# Set the features. \n",
    "features = speech_v2.RecognitionFeatures(\n",
    "            enable_word_time_offsets=True,\n",
    "            enable_automatic_punctuation=True\n",
    "        )\n",
    "\n",
    "# Create the recognition config variable. \n",
    "config =  speech_v2.types.cloud_speech.RecognitionConfig(\n",
    "            auto_decoding_config={},\n",
    "            features=features\n",
    "        )"
   ]
  },
  {
   "cell_type": "code",
   "execution_count": null,
   "id": "af6d8861-3ac6-4da9-bd3f-55341c1a7c48",
   "metadata": {},
   "outputs": [
    {
     "name": "stdout",
     "output_type": "stream",
     "text": [
      "results {\n",
      "  key: \"gs://blogpost_data/audiobooks/audios/the_wonderful_wizard_of_oz.wav\"\n",
      "  value {\n",
      "    uri: \"gs://blogpost_data/stt_transcript/the_wonderful_wizard_of_oz_transcript_649cb4d8-0000-2ff6-ab18-3c286d3d9972.json\"\n",
      "  }\n",
      "}\n",
      "total_billed_duration {\n",
      "  seconds: 408\n",
      "}\n",
      "\n"
     ]
    }
   ],
   "source": [
    "# Create the batch recognize request.\n",
    "request = speech_v2.types.cloud_speech.BatchRecognizeRequest(\n",
    "            recognizer=recognizer.name,\n",
    "            config=config,\n",
    "            files=[files],\n",
    "            recognition_output_config=output_config\n",
    "        )\n",
    "\n",
    "# Send the API request.\n",
    "operation = client.batch_recognize(request=request)\n",
    "response = operation.result(timeout=10000)\n",
    "print(response)"
   ]
  },
  {
   "cell_type": "code",
   "execution_count": 354,
   "id": "aa88bf3a-1c17-4ab7-b331-d89eae8c50ef",
   "metadata": {},
   "outputs": [],
   "source": [
    "storage_client = storage.Client()\n",
    "\n",
    "# Input the bucket the output transcript is stored in.\n",
    "bucket = storage_client.bucket(\"blogpost_data\")\n",
    "\n",
    "# Input the path from the bucket to the output transcript file.\n",
    "blob = bucket.blob(\"stt_transcript/the_wonderful_wizard_of_oz_transcript_649cb4d8-0000-2ff6-ab18-3c286d3d9972.json\")\n",
    "\n",
    "with blob.open(\"r\") as f:\n",
    "    data = json.load(f)\n",
    "\n"
   ]
  },
  {
   "cell_type": "code",
   "execution_count": 355,
   "id": "a676b9aa-8b13-4663-80a6-8b04a5f72702",
   "metadata": {},
   "outputs": [
    {
     "name": "stdout",
     "output_type": "stream",
     "text": [
      "  Dorothy lived in the midst of the great Kansas prairies with uncle Henry who was a farmer and aunt m who was the farmer's wife. Their house was small, for the lumber to build it had to be carried by wagon many miles. There were four walls, the floor and a roof which made one room, and this room contained a rusty looking cook stove, a cupbard for the dishes, a table, three or four chairs and the beds. Uncle Henry and aunt m had a big bed in one corner and  Dorothy, a little bed in another corner. There was no garret at all, and no celler, except a small hole dug in the ground, called a cyclone celler, where the family could go in case one of those great whirlwinds arose, mighty enough to crush any building in its path. It was reached by a trap door in the middle of the floor, from which a ladder led down into a small dark hole. When Dorothy stood in the doorway and looked around, she could see nothing but  the great gray prairie on every side, not a tree nor a house broke the broad sweep of flat country that reached to the edge of the sky in all directions. the sun had baked the plowed land into a gray mass with little cracks running through it. even the grass was not green, for the sun had burned the tops of the long blades until they were the same gray color to be seen everywhere. once the house had been painted, but the sun blistered the paint.  and the rains washed it away, and now the house was as dull and gray as everything else. When Aunt Am came there to live, she was a young pretty wife. The sun and wind had changed her too. They had taken the sparkle from her eyes and left them a sober gray. They had taken the red from her cheeks and lips, and they were gray also. She was thin and gaunt and never smiled now. When Dorothy, who was an orphan, first  came to her. Aunt M had been so startled by the child's laughter that she would scream and press her hand upon her heart, whenever Dorothy's merry voice reached her ears, and she still looked at the little girl with wonder that she could find anything to laugh at. Uncle Henry never laughed. He worked hard from morning till night and did not know what joy was. He was gray also, from his long beard to his rough boots, and  and he looked stern and solem and rarely spoke. It was Toto that made Dorothy laugh, and saved her from growing as gray as her other surroundings. Toto was not gray, he was a little black dog with long silky hair and small black eyes that twinkled merily on either side of his funny we nose. Toto played all day long, and Dorothy played with him and loved him dearly. Today, however, they were not  slang. Uncle Henry sat upon the doorstep and looked anxiously at the sky, which was even grayer than usual. Dorothy stood in the door with Toto in her arms, and looked at the sky too. Aunt Am was washing the dishes. From the far north they heard a low whale of the wind, and Uncle Henry and Dorothy could see where the long grass bowed in waves before the coming storm. There now came a sharp whistling in the air from the south, and  As they turned their eyes that way, they saw ripples in the grass coming from that direction also. Suddenly Uncle Henry stood up, \"there's a cyclone coming him!\" he called to his wife. \"I'll go look after the stock.\" Then he ran toward the sheds where the cows and horses were kept. And Tim dropped her work and came to the door. One glance told her of the danger close at hand. \"quick, Dorothy!\" she screamed, \"run to the celler!\" Toto jumped out of Dorothy's  arms and hit under the bed, and the girls started to get him. Aunt M, badly frightened, threw open the trap door on the floor and climbed down the ladder into the small dark hole. Dorothy caught Toto at last and started to follow her aunt. When she was halfway across the room, there came a great shreak from the wind, and the house shook so hard that she lost her footing, and she sat down suddenly upon the floor. Then a strange thing happened,  the house whirled around two or three times and rose slowly through the air. Dorothy felt as if she were going up in a balloon. The north and south winds met where the house stood, and made it the exact center of the cyclone. In the middle of a cyclone, the air is generally still, but the great pressure of the wind on every side of the house raised it up higher and higher until it was at the very top of the cyclone, and there  It remained and was carried miles and miles away as easily as you could carry a feather. It was very dark and the wind howled horribly around her, but Dorothy found  she was riding quite easily, after the first few whirls around, and one other time when the house tipped badly, she felt as if she were being rocked gently like a baby in a cradle. Toto did not like it. He ran about the room, now here, now there, barking loudly; but Dorothy sat quite still on the floor and waited to see what would happen. Once Tota got too near the open trap door and fell in, and at first  At first the little girl thought she had lost him, but soon she saw one of his ears sticking up through the hole, for the strong pressure of the air was keeping him up so he could not fall. She crepped to the hole, caught Toto by the ear and dragged him into the room again, afterward closing the trap door so that no more accidents could happen. Hour after hour passed away, and slowly Dorothy got over her fright, but she felt quite lonely, and the wind shaked  so loudly all about her that she nearly became deaf. At first she had wondered if she would be dashed to pieces when the house fell again; but as the hours passed and nothing terrible happened, she stopped worrying and resolved to wait calmly and see what the future would bring. At last she crawled over the swaying floor to her bed, and lay down upon it, and Toto followed and lay down beside her. In spite of the swaying of the house and the way...  feeling of the wind, Dorothy soon closed her eyes and fell fast asleep.\n"
     ]
    }
   ],
   "source": [
    "# Parse the transcript\n",
    "\n",
    "transcript = \"\"\n",
    "for result in data[\"results\"]:\n",
    "    if \"alternatives\" in result:\n",
    "        transcript += ' ' + result['alternatives'][0]['transcript']\n",
    "\n",
    "print(transcript)"
   ]
  },
  {
   "cell_type": "code",
   "execution_count": 356,
   "id": "f5c445a4-b4f9-4800-9281-b5c0a1a700d0",
   "metadata": {},
   "outputs": [
    {
     "data": {
      "text/html": [
       "<body><html>\n",
       "<h1>Chirp WER Results</h1>\n",
       "<div>total WER = 37, total word = 1142, wer = 3.24%<br>Error breakdown: del = 0.09%, ins=0.53%, sub=2.63%<br><b></b></div>\n",
       "<table>dorothy lived in the midst of the great kansas prairies with uncle henry who was a farmer and aunt <span style=\"background-color: greenyellow\">\n",
       "        <del>m</del></span><span style=\"background-color: yellow\">\n",
       "        em </span> who was the farmer's wife their house was small for the lumber to build it had to be carried by wagon many miles there were four walls <span style=\"background-color: greenyellow\">\n",
       "        <del>the</del></span><span style=\"background-color: yellow\">\n",
       "        a </span> floor and a roof which made one room and this room contained a rusty looking <span style=\"background-color: greenyellow\">\n",
       "        <del>cook</del> </span> <span style=\"background-color: greenyellow\">\n",
       "        <del>stove</del></span><span style=\"background-color: yellow\">\n",
       "        cookstove </span> a <span style=\"background-color: greenyellow\">\n",
       "        <del>cupbard</del></span><span style=\"background-color: yellow\">\n",
       "        cupboard </span> for the dishes a table three or four chairs and the beds uncle henry and aunt <span style=\"background-color: greenyellow\">\n",
       "        <del>m</del></span><span style=\"background-color: yellow\">\n",
       "        em </span> had a big bed in one corner and dorothy a little bed in another corner there was no garret at all and no <span style=\"background-color: greenyellow\">\n",
       "        <del>celler</del></span><span style=\"background-color: yellow\">\n",
       "        cellar </span> except a small hole dug in the ground called a cyclone <span style=\"background-color: greenyellow\">\n",
       "        <del>celler</del></span><span style=\"background-color: yellow\">\n",
       "        cellar </span> where the family could go in case one of those great whirlwinds arose mighty enough to crush any building in its path it was reached by a trap door in the middle of the floor from which a ladder led down into <span style=\"background-color: greenyellow\">\n",
       "        <del>a</del></span><span style=\"background-color: yellow\">\n",
       "        the </span> small dark hole when dorothy stood in the doorway and looked around she could see nothing but the great gray prairie on every side not a tree nor a house broke the broad sweep of flat country that reached to the edge of the sky in all directions the sun had baked the plowed land into a gray mass with little cracks running through it even the grass was not green for the sun had burned the tops of the long blades until they were the same gray color to be seen everywhere once the house had been painted but the sun blistered the paint and the rains washed it away and now the house was as dull and gray as everything else when aunt <span style=\"background-color: greenyellow\">\n",
       "        <del>am</del></span><span style=\"background-color: yellow\">\n",
       "        em </span> came there to live she was a young pretty wife the sun and wind had changed her too they had taken the sparkle from her eyes and left them a sober gray they had taken the red from her cheeks and lips and they were gray also she was thin and gaunt and never smiled now when dorothy who was an orphan first came to her aunt <span style=\"background-color: greenyellow\">\n",
       "        <del>m</del></span><span style=\"background-color: yellow\">\n",
       "        em </span> had been so startled by the child's laughter that she would scream and press her hand upon her heart whenever dorothy's merry voice reached her ears and she still looked at the little girl with wonder that she could find anything to laugh at uncle henry never laughed he worked hard from morning till night and did not know what joy was he was gray also from his long beard to his rough boots <span style=\"background-color: greenyellow\">\n",
       "        <del>and</del> </span> and he looked stern and <span style=\"background-color: greenyellow\">\n",
       "        <del>solem</del></span><span style=\"background-color: yellow\">\n",
       "        solemn </span> and rarely spoke it was toto that made dorothy laugh and saved her from growing as gray as her other surroundings toto was not gray he was a little black dog with long silky hair and small black eyes that twinkled <span style=\"background-color: greenyellow\">\n",
       "        <del>merily</del></span><span style=\"background-color: yellow\">\n",
       "        merrily </span> on either side of his funny <span style=\"background-color: greenyellow\">\n",
       "        <del>we</del></span><span style=\"background-color: yellow\">\n",
       "        wee </span> nose toto played all day long and dorothy played with him and loved him dearly today however they were not <span style=\"background-color: greenyellow\">\n",
       "        <del>slang</del></span><span style=\"background-color: yellow\">\n",
       "        playing </span> uncle henry sat upon the doorstep and looked anxiously at the sky which was even grayer than usual dorothy stood in the door with toto in her arms and looked at the sky too aunt <span style=\"background-color: greenyellow\">\n",
       "        <del>am</del></span><span style=\"background-color: yellow\">\n",
       "        em </span> was washing the dishes from the far north they heard a low <span style=\"background-color: greenyellow\">\n",
       "        <del>whale</del></span><span style=\"background-color: yellow\">\n",
       "        wail </span> of the wind and uncle henry and dorothy could see where the long grass bowed in waves before the coming storm there now came a sharp whistling in the air from the south and as they turned their eyes that way they saw ripples in the grass coming from that direction also suddenly uncle henry stood up there's a cyclone coming <span style=\"background-color: greenyellow\">\n",
       "        <del>him</del></span><span style=\"background-color: yellow\">\n",
       "        em </span> he called to his wife i'll go look after the stock then he ran toward the sheds where the cows and horses were kept <span style=\"background-color: greenyellow\">\n",
       "        <del>and</del></span><span style=\"background-color: yellow\">\n",
       "        aunt </span> <span style=\"background-color: greenyellow\">\n",
       "        <del>tim</del></span><span style=\"background-color: yellow\">\n",
       "        em </span> dropped her work and came to the door one glance told her of the danger close at hand quick dorothy she screamed run <span style=\"background-color: greenyellow\">\n",
       "        <del>to</del></span><span style=\"background-color: yellow\">\n",
       "        for </span> the <span style=\"background-color: greenyellow\">\n",
       "        <del>celler</del></span><span style=\"background-color: yellow\">\n",
       "        cellar </span> toto jumped out of dorothy's arms and <span style=\"background-color: greenyellow\">\n",
       "        <del>hit</del></span><span style=\"background-color: yellow\">\n",
       "        hid </span> under the bed and the <span style=\"background-color: greenyellow\">\n",
       "        <del>girls</del></span><span style=\"background-color: yellow\">\n",
       "        girl </span> started to get him aunt <span style=\"background-color: greenyellow\">\n",
       "        <del>m</del></span><span style=\"background-color: yellow\">\n",
       "        em </span> badly frightened threw open the trap door <span style=\"background-color: greenyellow\">\n",
       "        <del>on</del></span><span style=\"background-color: yellow\">\n",
       "        in </span> the floor and climbed down the ladder into the small dark hole dorothy caught toto at last and started to follow her aunt when she was halfway across the room there came a great <span style=\"background-color: greenyellow\">\n",
       "        <del>shreak</del></span><span style=\"background-color: yellow\">\n",
       "        shriek </span> from the wind and the house shook so hard that she lost her footing and <span style=\"background-color: greenyellow\">\n",
       "        <del>she</del> </span> sat down suddenly upon the floor then a strange thing happened the house whirled around two or three times and rose slowly through the air dorothy felt as if she were going up in a balloon the north and south winds met where the house stood and made it the exact center of the cyclone in the middle of a cyclone the air is generally still but the great pressure of the wind on every side of the house raised it up higher and higher until it was at the very top of the cyclone and there it remained and was carried miles and miles away as easily as you could carry a feather it was very dark and the wind howled horribly around her but dorothy found she was riding quite easily after the first few whirls around and one other time when the house tipped badly she felt as if she were being rocked gently like a baby in a cradle toto did not like it he ran about the room now here now there barking loudly but dorothy sat quite still on the floor and waited to see what would happen once <span style=\"background-color: greenyellow\">\n",
       "        <del>tota</del></span><span style=\"background-color: yellow\">\n",
       "        toto </span> got too near the open trap door and fell in and <span style=\"background-color: greenyellow\">\n",
       "        <del>at</del> </span> <span style=\"background-color: greenyellow\">\n",
       "        <del>first</del> </span> at first the little girl thought she had lost him but soon she saw one of his ears sticking up through the hole for the strong pressure of the air was keeping him up so <span style=\"background-color: yellow\">\n",
       "        that</span> he could not fall she <span style=\"background-color: greenyellow\">\n",
       "        <del>crepped</del></span><span style=\"background-color: yellow\">\n",
       "        crept </span> to the hole caught toto by the ear and dragged him into the room again afterward closing the trap door so that no more accidents could happen hour after hour passed away and slowly dorothy got over her fright but she felt quite lonely and the wind <span style=\"background-color: greenyellow\">\n",
       "        <del>shaked</del></span><span style=\"background-color: yellow\">\n",
       "        shrieked </span> so loudly all about her that she nearly became deaf at first she had wondered if she would be dashed to pieces when the house fell again but as the hours passed and nothing terrible happened she stopped worrying and resolved to wait calmly and see what the future would bring at last she crawled over the swaying floor to her bed and lay down upon it and toto followed and lay down beside her in spite of the swaying of the house and the <span style=\"background-color: greenyellow\">\n",
       "        <del>way</del> </span> <span style=\"background-color: greenyellow\">\n",
       "        <del>feeling</del></span><span style=\"background-color: yellow\">\n",
       "        wailing </span> of the wind dorothy soon closed her eyes and fell fast asleep </table>\n",
       "</body></html>"
      ],
      "text/plain": [
       "<IPython.core.display.HTML object>"
      ]
     },
     "metadata": {},
     "output_type": "display_data"
    }
   ],
   "source": [
    "import simple_wer_v2 as wer\n",
    "from IPython.display import display\n",
    "from IPython.display import HTML\n",
    "import re\n",
    "\n",
    "# Read the ground truth file.\n",
    "bucket = storage_client.bucket(groundtruth_bucket)\n",
    "blob = bucket.blob(groundtruth_loc)\n",
    "\n",
    "with blob.open(\"r\") as f:\n",
    "    groundtruth = f.read()\n",
    "    \n",
    "# Remove punctuations to normalize the transcript and the ground truth\n",
    "groundtruth = re.sub(r\"[;.:“”!,?'‘]\", \"\", groundtruth, flags=re.MULTILINE)\n",
    "groundtruth = re.sub(r\"[—-]\", \" \", groundtruth, flags=re.MULTILINE)\n",
    "groundtruth = re.sub(r\"[’]\", \"'\", groundtruth, flags=re.MULTILINE)\n",
    "transcript = re.sub(r\"[.:;!,?]\", \"\", transcript, flags=re.MULTILINE)\n",
    "\n",
    "\n",
    "# Call the simple WER function.\n",
    "analysis = wer.SimpleWER(cap_punct=0,\n",
    "    \n",
    "    html_handler=wer.HighlightAlignedHtml,\n",
    "    preprocess_handler=wer.TxtPreprocess)\n",
    "\n",
    "analysis.AddHypRef(transcript, groundtruth)\n",
    "\n",
    "# Print the output.\n",
    "summary, details, keyphrases = analysis.GetSummaries()\n",
    "aligned_html = f\"\"\"<body><html>\n",
    "<h1>Chirp WER Results</h1>\n",
    "<div>{summary}<br>{details}<br><b>{keyphrases}</b></div>\n",
    "<table>{\"\".join(analysis.aligned_htmls)}</table>\n",
    "</body></html>\"\"\"\n",
    "\n",
    "results = HTML(aligned_html)\n",
    "display(results)\n"
   ]
  },
  {
   "cell_type": "code",
   "execution_count": null,
   "id": "81a864de-6248-4af1-ac94-f00103b4cf78",
   "metadata": {},
   "outputs": [],
   "source": []
  }
 ],
 "metadata": {
  "environment": {
   "kernel": "python3",
   "name": "tf2-gpu.2-11.m103",
   "type": "gcloud",
   "uri": "gcr.io/deeplearning-platform-release/tf2-gpu.2-11:m103"
  },
  "kernelspec": {
   "display_name": "Python 3 (ipykernel)",
   "language": "python",
   "name": "python3"
  },
  "language_info": {
   "codemirror_mode": {
    "name": "ipython",
    "version": 3
   },
   "file_extension": ".py",
   "mimetype": "text/x-python",
   "name": "python",
   "nbconvert_exporter": "python",
   "pygments_lexer": "ipython3",
   "version": "3.7.12"
  }
 },
 "nbformat": 4,
 "nbformat_minor": 5
}
